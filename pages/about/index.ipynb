{
 "cells": [
  {
   "cell_type": "markdown",
   "metadata": {},
   "source": [
    "# About this blog\n",
    "\n",
    "I post some Ipython notebooks here.\n",
    "\n",
    "Sometimes other stuff."
   ]
  }
 ],
 "metadata": {
  "kernelspec": {
   "display_name": "Python 3",
   "language": "python",
   "name": "python3"
  },
  "language_info": {
   "codemirror_mode": {
    "name": "ipython",
    "version": 3
   },
   "file_extension": ".py",
   "mimetype": "text/x-python",
   "name": "python",
   "nbconvert_exporter": "python",
   "pygments_lexer": "ipython3",
   "version": "3.6.0"
  },
  "nikola": {
   "category": "",
   "date": "2018-02-03 15:53:57 UTC-05:00",
   "description": "",
   "link": "",
   "slug": "about",
   "tags": "",
   "title": "About",
   "type": "text"
  }
 },
 "nbformat": 4,
 "nbformat_minor": 2
}
