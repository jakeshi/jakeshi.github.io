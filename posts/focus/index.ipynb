{
 "cells": [
  {
   "cell_type": "markdown",
   "metadata": {},
   "source": [
    "Write your post here."
   ]
  }
 ],
 "metadata": {
  "kernelspec": {
   "display_name": "Python 3",
   "env": {},
   "interrupt_mode": "signal",
   "language": "python",
   "metadata": {},
   "name": "python3"
  },
  "nikola": {
   "category": "",
   "date": "2019-08-13 15:21:55 UTC-04:00",
   "description": "",
   "link": "",
   "slug": "focus",
   "tags": "",
   "title": "Focus",
   "type": "text"
  }
 },
 "nbformat": 4,
 "nbformat_minor": 2
}
