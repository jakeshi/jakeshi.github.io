{
 "cells": [
  {
   "cell_type": "markdown",
   "metadata": {},
   "source": [
    "There are too many distractions. So it is very important to focus."
   ]
  }
 ],
 "metadata": {
  "kernelspec": {
   "display_name": "Python 3",
   "language": "python",
   "name": "python3"
  },
  "language_info": {
   "codemirror_mode": {
    "name": "ipython",
    "version": 3
   },
   "file_extension": ".py",
   "mimetype": "text/x-python",
   "name": "python",
   "nbconvert_exporter": "python",
   "pygments_lexer": "ipython3",
   "version": "3.6.9"
  },
  "nikola": {
   "category": "",
   "date": "2019-08-13 15:21:55 UTC-04:00",
   "description": "",
   "link": "",
   "slug": "focus",
   "tags": "",
   "title": "Focus",
   "type": "text"
  }
 },
 "nbformat": 4,
 "nbformat_minor": 2
}
