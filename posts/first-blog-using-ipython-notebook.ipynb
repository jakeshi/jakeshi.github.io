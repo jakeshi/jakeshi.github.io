{
 "cells": [
  {
   "cell_type": "markdown",
   "metadata": {},
   "source": [
    "1. Download and install Anaconda (this gives you ipython and a nice enviroment)\n",
    "\n",
    "2. Install Nikola\n",
    "\n",
    "3. Follow the tutorial\n",
    "\n",
    "Helpful Links:\n",
    "\n",
    "http://www.damian.oquanta.info/posts/ipython-plugin-for-nikola-updated.html\n",
    "\n",
    "https://shankarmsy.github.io/posts/blogging-with-the-awesome-nikola-ipython-and-github.html\n"
   ]
  },
  {
   "cell_type": "code",
   "execution_count": 1,
   "metadata": {
    "scrolled": true
   },
   "outputs": [
    {
     "name": "stdout",
     "output_type": "stream",
     "text": [
      "Python: 3.6.0 |Anaconda custom (x86_64)| (default, Dec 23 2016, 13:19:00) \n",
      "[GCC 4.2.1 Compatible Apple LLVM 6.0 (clang-600.0.57)]\n"
     ]
    }
   ],
   "source": [
    "# http://nbviewer.jupyter.org/gist/theandygross/4544012\n",
    "import sys\n",
    "print('Python: {}'.format(sys.version))"
   ]
  },
  {
   "cell_type": "code",
   "execution_count": 2,
   "metadata": {},
   "outputs": [
    {
     "name": "stdout",
     "output_type": "stream",
     "text": [
      "This is really exciting\n"
     ]
    }
   ],
   "source": [
    "print ('This is really exciting')"
   ]
  },
  {
   "cell_type": "code",
   "execution_count": 3,
   "metadata": {},
   "outputs": [
    {
     "name": "stdout",
     "output_type": "stream",
     "text": [
      "12\n"
     ]
    }
   ],
   "source": [
    "print (12)"
   ]
  },
  {
   "cell_type": "code",
   "execution_count": null,
   "metadata": {
    "collapsed": true
   },
   "outputs": [],
   "source": [
    "print ('hello, notebook blog :)')"
   ]
  }
 ],
 "metadata": {
  "kernelspec": {
   "display_name": "Python 3",
   "language": "python",
   "name": "python3"
  },
  "language_info": {
   "codemirror_mode": {
    "name": "ipython",
    "version": 3
   },
   "file_extension": ".py",
   "mimetype": "text/x-python",
   "name": "python",
   "nbconvert_exporter": "python",
   "pygments_lexer": "ipython3",
   "version": "3.6.0"
  },
  "nikola": {
   "category": "",
   "date": "2016-09-23 20:42:41 UTC-04:00",
   "description": "",
   "link": "",
   "slug": "first-blog-using-ipython-notebook",
   "tags": "",
   "title": "First Blog Using IPython Notebook",
   "type": "text"
  }
 },
 "nbformat": 4,
 "nbformat_minor": 2
}
